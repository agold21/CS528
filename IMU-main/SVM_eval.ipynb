{
 "cells": [
  {
   "cell_type": "code",
   "execution_count": 61,
   "metadata": {},
   "outputs": [],
   "source": [
    "import os\n",
    "import numpy as np\n",
    "import pandas as pd\n",
    "import seaborn as sns\n",
    "from sklearn.svm import SVC\n",
    "from sklearn.model_selection import train_test_split\n",
    "import matplotlib.pyplot as plt\n",
    "from sklearn.preprocessing import StandardScaler\n",
    "from sklearn.metrics import classification_report, accuracy_score, confusion_matrix"
   ]
  },
  {
   "cell_type": "code",
   "execution_count": 62,
   "metadata": {},
   "outputs": [],
   "source": [
    "labels = [\"alexa\", \"beethoven\", \"despacito\", \"play\", \"still\"]"
   ]
  },
  {
   "cell_type": "code",
   "execution_count": 63,
   "metadata": {},
   "outputs": [],
   "source": [
    "# Set up files with appropriate labels\n",
    "all_data = []\n",
    "for direction in os.listdir('csv_files/'):\n",
    "    for filename in os.listdir(f'csv_files/{direction}'):\n",
    "        all_data.append([filename, direction]) \n",
    "        \n",
    "files_df = pd.DataFrame(all_data)\n",
    "files_df.columns = ['Filename', 'Direction']"
   ]
  },
  {
   "cell_type": "code",
   "execution_count": 64,
   "metadata": {},
   "outputs": [],
   "source": [
    "# Create training and testing sets\n",
    "train_files, test_files = train_test_split(files_df, test_size=0.2, stratify=files_df['Direction'])"
   ]
  },
  {
   "cell_type": "code",
   "execution_count": 65,
   "metadata": {},
   "outputs": [],
   "source": [
    "# convert files to csv\n",
    "train_files.to_csv(\"train.csv\", index=False)\n",
    "test_files.to_csv(\"test.csv\", index=False)"
   ]
  },
  {
   "cell_type": "code",
   "execution_count": 66,
   "metadata": {},
   "outputs": [],
   "source": [
    "train_labels = pd.read_csv(\"train.csv\") # Update directory\n",
    "test_labels = pd.read_csv(\"test.csv\") # Update directory\n",
    "\n",
    "train_dir = test_dir = \"csv_files/\" # Update directory"
   ]
  },
  {
   "cell_type": "code",
   "execution_count": 67,
   "metadata": {},
   "outputs": [],
   "source": [
    "# Function to load dataset\n",
    "def load_data(label_df, data_dir):\n",
    "    # Empty lists to store features and labels\n",
    "    features = []\n",
    "    labels = []\n",
    "\n",
    "    for _, row in label_df.iterrows():\n",
    "        filename = os.path.join(data_dir, row['Direction'], row['Filename'])\n",
    "\n",
    "        # Read file into pandas dataframe\n",
    "        df = pd.read_csv(filename)\n",
    "\n",
    "        # Keep only accelerometer and gyroscope signals\n",
    "        data = df[['accel_x', 'accel_y', 'accel_z', 'gyro_x', 'gyro_y', 'gyro_z']].values.astype(np.float32)\n",
    "\n",
    "        # Normalize data\n",
    "        data = (data - data.min(axis=0)) / (data.max(axis=0) - data.min(axis=0))\n",
    "   \n",
    "        # Zero padding\n",
    "        while len(data) < 500:\n",
    "            zeros = np.array([[0, 0, 0, 0, 0, 0]])\n",
    "            data = np.append(data, zeros, axis=0)\n",
    "        \n",
    "        # Populate lists with normalized data and labels\n",
    "        features.append(data.flatten())\n",
    "        labels.append(row['Direction'])\n",
    "\n",
    "    return features, labels"
   ]
  },
  {
   "cell_type": "code",
   "execution_count": 68,
   "metadata": {},
   "outputs": [],
   "source": [
    "def train_and_evaluate_svm(X_train, y_train, X_test, y_test):\n",
    "    # Create the SVM classifier\n",
    "    svm_classifier = SVC(kernel='rbf')\n",
    "\n",
    "    # Train the classifier\n",
    "    svm_classifier.fit(X_train, y_train)\n",
    "\n",
    "    # Perform prediction on the test set\n",
    "    y_pred = svm_classifier.predict(X_test)\n",
    "\n",
    "    # Evaluate the model\n",
    "    accuracy = accuracy_score(y_test, y_pred)\n",
    "    print(f'SVM accuracy: {accuracy:.3%}')\n",
    "\n",
    "    # Plot the confusion matrix\n",
    "    conf_matrix = confusion_matrix(y_test, y_pred)\n",
    "    sns.heatmap(conf_matrix, annot=True, cmap=\"Blues\", \n",
    "                xticklabels = svm_classifier.classes_, yticklabels = svm_classifier.classes_)\n",
    "    plt.title('train')\n",
    "    plt.xlabel('pred')\n",
    "    plt.ylabel('actual')\n",
    "    plt.show()\n",
    "    \n",
    "    return svm_classifier"
   ]
  },
  {
   "cell_type": "code",
   "execution_count": 69,
   "metadata": {},
   "outputs": [],
   "source": [
    "# Create the train and test sets\n",
    "X_train, y_train = load_data(train_labels, train_dir)\n",
    "X_test, y_test = load_data(test_labels, test_dir)"
   ]
  },
  {
   "cell_type": "code",
   "execution_count": 70,
   "metadata": {},
   "outputs": [
    {
     "name": "stdout",
     "output_type": "stream",
     "text": [
      "SVM accuracy: 87.500%\n"
     ]
    },
    {
     "data": {
      "image/png": "[encoded data removed]",
      "text/plain": [
       "<Figure size 640x480 with 2 Axes>"
      ]
     },
     "metadata": {},
     "output_type": "display_data"
    }
   ],
   "source": [
    "# Perform training and testing with SVM\n",
    "svm = train_and_evaluate_svm(X_train, y_train, X_test, y_test)\n"
   ]
  }
 ],
 "metadata": {
  "kernelspec": {
   "display_name": "base",
   "language": "python",
   "name": "python3"
  },
  "language_info": {
   "codemirror_mode": {
    "name": "ipython",
    "version": 3
   },
   "file_extension": ".py",
   "mimetype": "text/x-python",
   "name": "python",
   "nbconvert_exporter": "python",
   "pygments_lexer": "ipython3",
   "version": "3.12.4"
  }
 },
 "nbformat": 4,
 "nbformat_minor": 2
}
